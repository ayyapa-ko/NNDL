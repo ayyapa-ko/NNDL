{
 "cells": [
  {
   "cell_type": "code",
   "execution_count": null,
   "metadata": {
    "vscode": {
     "languageId": "plaintext"
    }
   },
   "outputs": [],
   "source": [
    "from google.colab import drive\n",
    "import os\n",
    "import numpy as np\n",
    "import pandas as pd\n",
    "import matplotlib.pyplot as plt\n",
    "from skimage.io import imread\n",
    "from skimage.color import rgb2gray\n",
    "from skimage.transform import resize\n",
    "import tensorflow as tf\n",
    "from tensorflow.keras.models import Model, Sequential\n",
    "from tensorflow.keras.layers import Conv2D, MaxPooling2D, Flatten, Dense\n",
    "from tensorflow.keras.utils import to_categorical\n",
    "from sklearn.model_selection import train_test_split\n",
    "from sklearn.ensemble import RandomForestClassifier\n",
    "from sklearn.svm import SVC\n",
    "from sklearn.metrics import accuracy_score\n",
    "import zipfile\n",
    "\n",
    "# Unzipping the dataset\n",
    "zip_file = \"/content/train.zip\"\n",
    "extract_folder = \"/content/trainimages\"\n",
    "csv_file = \"/content/trainLabels.csv\"\n",
    "\n",
    "if not os.path.exists(extract_folder):\n",
    "    os.makedirs(extract_folder)\n",
    "\n",
    "with zipfile.ZipFile(zip_file, 'r') as archive:\n",
    "    archive.extractall(extract_folder)\n",
    "\n",
    "image_folder = \"/content/trainimages/train\"\n",
    "\n",
    "df = pd.read_csv(csv_file)\n",
    "\n",
    "# Function to load and preprocess images\n",
    "def load_image(image_id, img_size=(28, 28)):\n",
    "    img_path = os.path.join(image_folder, f\"{image_id}.png\")\n",
    "    if os.path.exists(img_path):\n",
    "        img = imread(img_path)\n",
    "        img_resized = resize(img, img_size)\n",
    "        img_gray = rgb2gray(img_resized)\n",
    "        return img_gray\n",
    "    else:\n",
    "        print(f\"Image {image_id}.png not found!\")\n",
    "        return None\n",
    "\n",
    "X_data, y_data = [], []\n",
    "for index, row in df.iterrows():\n",
    "    img = load_image(row[\"id\"])\n",
    "    if img is not None:\n",
    "        X_data.append(img)\n",
    "        y_data.append(row[\"label\"])\n",
    "\n",
    "X_data = np.array(X_data).reshape(len(X_data), 28, 28, 1)  # Add channel dimension\n",
    "y_data = np.array(pd.factorize(y_data)[0])\n",
    "\n",
    "X_train, X_test, y_train, y_test = train_test_split(X_data, y_data, test_size=0.2, random_state=42)\n",
    "\n",
    "# CNN Model\n",
    "def create_cnn():\n",
    "    model = Sequential([\n",
    "        Conv2D(64, (3,3), input_shape=(28, 28, 1), activation='relu'),\n",
    "        MaxPooling2D(pool_size=(2,2)),\n",
    "        Conv2D(64, (3,3), activation='relu'),\n",
    "        MaxPooling2D(pool_size=(2,2)),\n",
    "        Flatten(),\n",
    "        Dense(64, activation='relu'),\n",
    "        Dense(len(np.unique(y_train)), activation='softmax')\n",
    "    ])\n",
    "    model.compile(loss='sparse_categorical_crossentropy', optimizer='adam', metrics=['accuracy'])\n",
    "    return model\n",
    "\n",
    "model = create_cnn()\n",
    "model.fit(X_train, y_train, validation_data=(X_test, y_test), epochs=10, batch_size=32)\n",
    "\n"
   ]
  },
  {
   "cell_type": "code",
   "execution_count": null,
   "metadata": {
    "vscode": {
     "languageId": "plaintext"
    }
   },
   "outputs": [],
   "source": [
    "from tensorflow.keras.models import Model\n",
    "\n",
    "# ✅ Ensure the model is built by running a forward pass\n",
    "dummy_input = np.zeros((1, 28, 28, 1))\n",
    "_ = model.predict(dummy_input)  # Ensures model has a defined input/output\n",
    "\n",
    "# ✅ Extract features from the last hidden layer before classification\n",
    "feature_extractor = Model(inputs=model.inputs, outputs=model.get_layer(\"dense1\").output)\n",
    "\n",
    "# ✅ Generate feature vectors for training and testing sets\n",
    "X_train_features = feature_extractor.predict(X_train)\n",
    "X_test_features = feature_extractor.predict(X_test)\n",
    "\n",
    "print(\"Feature extraction completed! Feature shape:\", X_train_features.shape)\n"
   ]
  },
  {
   "cell_type": "code",
   "execution_count": null,
   "metadata": {
    "vscode": {
     "languageId": "plaintext"
    }
   },
   "outputs": [],
   "source": [
    "# Classifier using extracted features\n",
    "clf = RandomForestClassifier(n_estimators=100, random_state=42)\n",
    "clf.fit(X_train_features, y_train)\n",
    "y_pred = clf.predict(X_test_features)\n",
    "print(\"Random Forest Classifier Accuracy:\", accuracy_score(y_test, y_pred))\n",
    "\n",
    "# Using SVM for classification\n",
    "svm = SVC(kernel='linear')\n",
    "svm.fit(X_train_features, y_train)\n",
    "y_pred_svm = svm.predict(X_test_features)\n",
    "print(\"SVM Classifier Accuracy:\", accuracy_score(y_test, y_pred_svm))"
   ]
  }
 ],
 "metadata": {
  "language_info": {
   "name": "python"
  }
 },
 "nbformat": 4,
 "nbformat_minor": 2
}
